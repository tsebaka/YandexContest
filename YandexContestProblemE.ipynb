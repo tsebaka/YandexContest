{
  "cells": [
    {
      "cell_type": "markdown",
      "source": [
        "# **Libraries**"
      ],
      "metadata": {
        "id": "kowVlDKHp8Uf"
      },
      "id": "kowVlDKHp8Uf"
    },
    {
      "cell_type": "code",
      "source": [
        "import pandas as pd\n",
        "import sklearn"
      ],
      "metadata": {
        "id": "8I3ePjkYqDiC"
      },
      "id": "8I3ePjkYqDiC",
      "execution_count": 2,
      "outputs": []
    },
    {
      "cell_type": "markdown",
      "source": [
        "# **Data**"
      ],
      "metadata": {
        "id": "eZQNEAttqJvI"
      },
      "id": "eZQNEAttqJvI"
    },
    {
      "cell_type": "code",
      "source": [
        "v1 = []\n",
        "v2 = []\n",
        "v3 = []\n",
        "v4 = []\n",
        "v5 = []\n",
        "v6 = []\n",
        "v7 = []\n",
        "v8 = []\n",
        "v9 = []\n",
        "v10 = []\n",
        "v11 = []\n",
        "v12 = []\n",
        "v13 = []\n",
        "v14 = []\n",
        "v15 = []\n",
        "v16 = []\n",
        "v17 = []\n",
        "v18 = []\n",
        "v19 = []\n",
        "v20 = []\n",
        "vout = []\n",
        "\n",
        "for i in range (1000):\n",
        "  a, b, c, d, e, value = map(float, input().split())\n",
        "  v1.append(a)\n",
        "  v2.append(b)\n",
        "  v3.append(c)\n",
        "  v4.append(d)\n",
        "  v5.append(e)\n",
        "  #creating new features for a better predict\n",
        "  v6.append(a**2)\n",
        "  v7.append(b**2)\n",
        "  v8.append(c**2)\n",
        "  v9.append(d**2)\n",
        "  v10.append(e**2)\n",
        "  v11.append(a * b)\n",
        "  v12.append(a * c)\n",
        "  v13.append(a * d)\n",
        "  v14.append(a * e)\n",
        "  v15.append(b * c)\n",
        "  v16.append(b * d)\n",
        "  v17.append(b * e)\n",
        "  v18.append(c * d)\n",
        "  v19.append(c * e)\n",
        "  v20.append(d * e)  \n",
        "  #\n",
        "  vout.append(value)\n",
        "\n",
        "data = pd.DataFrame({'v1': v1, 'v2': v2, 'v3': v3,\n",
        "                     'v4': v4, 'v5': v5,\n",
        "                     'v6': v6, 'v7': v7,\n",
        "                     'v8': v8, 'v9': v9,\n",
        "                     'v10': v10, 'v11': v11,\n",
        "                     'v12': v12, 'v13': v13,\n",
        "                     'v14': v14, 'v15': v15,\n",
        "                     'v16': v16, 'v17': v17,\n",
        "                     'v18': v18, 'v19': v19,\n",
        "                     'v20': v20, 'vout': vout})\n",
        "\n",
        "numeric_indices = [0, 1, 2, 3, 4, 5, 6, 7, 8, 9, 10,\n",
        "                   11, 12, 13, 14, 15, 16, 17, 18, 19]\n",
        "outp_indices = [20]\n",
        "\n",
        "X_test = [] * 1000\n",
        "for i in range (1000):\n",
        "  a, b, c, d, e = map(float, input().split())\n",
        "  X_test.append([a, b, c, d, e, a**2, b**2, c**2, d**2, e**2, a * b, a * c, a * d, a * e, b * c, b * d, b * e, c * d, c * e, d * e])"
      ],
      "metadata": {
        "id": "5oy6sDUXqbYy"
      },
      "id": "5oy6sDUXqbYy",
      "execution_count": null,
      "outputs": []
    },
    {
      "cell_type": "markdown",
      "source": [
        "# **Model**"
      ],
      "metadata": {
        "id": "JZbT96bdrKcv"
      },
      "id": "JZbT96bdrKcv"
    },
    {
      "cell_type": "code",
      "source": [
        "from sklearn import linear_model\n",
        "\n",
        "model = linear_model.LinearRegression()"
      ],
      "metadata": {
        "id": "L8yAupQYrPxh"
      },
      "id": "L8yAupQYrPxh",
      "execution_count": null,
      "outputs": []
    },
    {
      "cell_type": "markdown",
      "source": [
        "## **Model train**"
      ],
      "metadata": {
        "id": "4_NqD5GLrdO8"
      },
      "id": "4_NqD5GLrdO8"
    },
    {
      "cell_type": "code",
      "source": [
        "model.fit(data[data.columns[numeric_indices]].values, data[data.columns[outp_indices]].values)"
      ],
      "metadata": {
        "id": "A7DBSEBHrzAV"
      },
      "id": "A7DBSEBHrzAV",
      "execution_count": null,
      "outputs": []
    },
    {
      "cell_type": "markdown",
      "source": [
        "## **Prediction**"
      ],
      "metadata": {
        "id": "e3x3Idm6r0Ny"
      },
      "id": "e3x3Idm6r0Ny"
    },
    {
      "cell_type": "code",
      "source": [
        "y_predict = model.predict(X_test)"
      ],
      "metadata": {
        "id": "K37wiBscsAvS"
      },
      "id": "K37wiBscsAvS",
      "execution_count": null,
      "outputs": []
    },
    {
      "cell_type": "markdown",
      "source": [
        "## **Answer**"
      ],
      "metadata": {
        "id": "tex5riX6sCnB"
      },
      "id": "tex5riX6sCnB"
    },
    {
      "cell_type": "code",
      "source": [
        "for i in range(1000):\n",
        "  print(float(y_predict[i]))"
      ],
      "metadata": {
        "id": "p_rMajtBsILO"
      },
      "id": "p_rMajtBsILO",
      "execution_count": null,
      "outputs": []
    }
  ],
  "metadata": {
    "kernelspec": {
      "display_name": "Python 3",
      "language": "python",
      "name": "python3"
    },
    "language_info": {
      "codemirror_mode": {
        "name": "ipython",
        "version": 3
      },
      "file_extension": ".py",
      "mimetype": "text/x-python",
      "name": "python",
      "nbconvert_exporter": "python",
      "pygments_lexer": "ipython3",
      "version": "3.8.8"
    },
    "colab": {
      "name": "YandexContestProblemE.ipynb",
      "provenance": []
    }
  },
  "nbformat": 4,
  "nbformat_minor": 5
}